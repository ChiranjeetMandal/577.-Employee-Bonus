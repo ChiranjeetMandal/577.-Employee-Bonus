{
 "cells": [
  {
   "cell_type": "code",
   "execution_count": 0,
   "metadata": {
    "application/vnd.databricks.v1+cell": {
     "cellMetadata": {
      "byteLimit": 2048000,
      "rowLimit": 10000
     },
     "inputWidgets": {},
     "nuid": "6629f4cc-2886-42d0-9b1b-14fd509d57a1",
     "showTitle": false,
     "title": ""
    }
   },
   "outputs": [],
   "source": [
    "employee = [( 3,'Brad',None,4000),\n",
    "            (1 ,'John',3,1000),\n",
    "            (2,'Dan',3,2000),\n",
    "            (4,'Thomas',3,4000)]\n",
    "employeecolumn = ['empid','name','supervisor','salary']\n",
    "bonus = [(2,500),\n",
    "         (4,2000)]\n",
    "bonuscolumns = ['empid','bonus']\n"
   ]
  },
  {
   "cell_type": "code",
   "execution_count": 0,
   "metadata": {
    "application/vnd.databricks.v1+cell": {
     "cellMetadata": {
      "byteLimit": 2048000,
      "rowLimit": 10000
     },
     "inputWidgets": {},
     "nuid": "4dc3c9e4-0d83-4566-af96-6a142d657d86",
     "showTitle": false,
     "title": ""
    }
   },
   "outputs": [
    {
     "output_type": "stream",
     "name": "stdout",
     "output_type": "stream",
     "text": [
      "+-----+------+----------+------+\n|empid|  name|supervisor|salary|\n+-----+------+----------+------+\n|    3|  Brad|      NULL|  4000|\n|    1|  John|         3|  1000|\n|    2|   Dan|         3|  2000|\n|    4|Thomas|         3|  4000|\n+-----+------+----------+------+\n\n+-----+-----+\n|empid|bonus|\n+-----+-----+\n|    2|  500|\n|    4| 2000|\n+-----+-----+\n\n"
     ]
    }
   ],
   "source": [
    "employeeDf =spark.createDataFrame(data=employee,schema=employeecolumn)\n",
    "bonusdf=spark.createDataFrame(data=bonus,schema=bonuscolumns)\n",
    "employeeDf.show()\n",
    "bonusdf.show()"
   ]
  },
  {
   "cell_type": "code",
   "execution_count": 0,
   "metadata": {
    "application/vnd.databricks.v1+cell": {
     "cellMetadata": {
      "byteLimit": 2048000,
      "rowLimit": 10000
     },
     "inputWidgets": {},
     "nuid": "3a5affb9-4315-4906-ac36-0c7cd3b09bf0",
     "showTitle": false,
     "title": ""
    }
   },
   "outputs": [
    {
     "output_type": "stream",
     "name": "stdout",
     "output_type": "stream",
     "text": [
      "+----+-----+\n|name|bonus|\n+----+-----+\n|Brad| NULL|\n|John| NULL|\n| Dan|  500|\n+----+-----+\n\n"
     ]
    }
   ],
   "source": [
    "employeeDf.alias('e').join(bonusdf.alias('b'),col('e.empid') == col('b.empid'),'left')\\\n",
    "    .filter((col('b.bonus') < 1000) | (col('b.bonus').isNull()))\\\n",
    "        .select(col('e.name'),col('b.bonus')).show()\n",
    "  "
   ]
  },
  {
   "cell_type": "code",
   "execution_count": 0,
   "metadata": {
    "application/vnd.databricks.v1+cell": {
     "cellMetadata": {
      "byteLimit": 2048000,
      "rowLimit": 10000
     },
     "inputWidgets": {},
     "nuid": "4be43bca-79ab-49f2-8b5c-4bf4dd34464a",
     "showTitle": false,
     "title": ""
    }
   },
   "outputs": [],
   "source": [
    "employeeDf.createOrReplaceTempView('employeeDf')\n",
    "bonusdf.createOrReplaceTempView('bonusdf')"
   ]
  },
  {
   "cell_type": "code",
   "execution_count": 0,
   "metadata": {
    "application/vnd.databricks.v1+cell": {
     "cellMetadata": {
      "byteLimit": 2048000,
      "rowLimit": 10000
     },
     "inputWidgets": {},
     "nuid": "ff5f2139-bc36-4f8b-9476-658938ea60d5",
     "showTitle": false,
     "title": ""
    }
   },
   "outputs": [],
   "source": [
    "query = '''\n",
    "SELECT e.name, b.bonus \n",
    "FROM employeeDf e \n",
    "left join bonusdf b \n",
    "on e.empid=b.empid \n",
    "where bonus< 1000 or bonus is null\n",
    "'''"
   ]
  },
  {
   "cell_type": "code",
   "execution_count": 0,
   "metadata": {
    "application/vnd.databricks.v1+cell": {
     "cellMetadata": {
      "byteLimit": 2048000,
      "rowLimit": 10000
     },
     "inputWidgets": {},
     "nuid": "23140d24-6203-4683-b103-8c3cfafe35af",
     "showTitle": false,
     "title": ""
    }
   },
   "outputs": [
    {
     "output_type": "stream",
     "name": "stdout",
     "output_type": "stream",
     "text": [
      "+----+-----+\n|name|bonus|\n+----+-----+\n|Brad| NULL|\n|John| NULL|\n| Dan|  500|\n+----+-----+\n\n"
     ]
    }
   ],
   "source": [
    "result = spark.sql(query)\n",
    "result.show()"
   ]
  },
  {
   "cell_type": "code",
   "execution_count": 0,
   "metadata": {
    "application/vnd.databricks.v1+cell": {
     "cellMetadata": {},
     "inputWidgets": {},
     "nuid": "3b129a36-e05f-4495-825a-76986c267e11",
     "showTitle": false,
     "title": ""
    }
   },
   "outputs": [],
   "source": []
  }
 ],
 "metadata": {
  "application/vnd.databricks.v1+notebook": {
   "dashboards": [],
   "language": "python",
   "notebookMetadata": {
    "pythonIndentUnit": 4
   },
   "notebookName": "577. Employee Bonus",
   "widgets": {}
  }
 },
 "nbformat": 4,
 "nbformat_minor": 0
}
